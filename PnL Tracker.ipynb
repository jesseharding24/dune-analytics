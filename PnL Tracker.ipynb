{
  "nbformat": 4,
  "nbformat_minor": 0,
  "metadata": {
    "colab": {
      "provenance": [],
      "include_colab_link": true
    },
    "kernelspec": {
      "name": "python3",
      "display_name": "Python 3"
    },
    "language_info": {
      "name": "python"
    }
  },
  "cells": [
    {
      "cell_type": "markdown",
      "metadata": {
        "id": "view-in-github",
        "colab_type": "text"
      },
      "source": [
        "<a href=\"https://colab.research.google.com/github/jesseharding24/dune-analytics/blob/main/PnL%20Tracker.ipynb\" target=\"_parent\"><img src=\"https://colab.research.google.com/assets/colab-badge.svg\" alt=\"Open In Colab\"/></a>"
      ]
    },
    {
      "cell_type": "markdown",
      "source": [
        "# About\n",
        "\n",
        "- This notebook allows you to quickly grab needed info, such as cost basis and profit or loss for each transfer of crypto assets, to simplify your crypto tax filing! 🧾\n",
        "\n",
        "- All you need to do is to input in your wallet addresses as and run the notebook. 💨\n",
        "\n",
        "---\n",
        "\n",
        "## Set up\n",
        "- install Dune API SDK (run `pip install dune_client`)\n",
        "- obtain an API key (https://docs.dune.com/api-reference/overview/authentication)"
      ],
      "metadata": {
        "id": "I4jkGJyvCpjX"
      }
    },
    {
      "cell_type": "code",
      "source": [
        "!pip install dune_client"
      ],
      "metadata": {
        "id": "NU5oqcbaCrCT"
      },
      "execution_count": null,
      "outputs": []
    },
    {
      "cell_type": "code",
      "source": [
        "from dune_client.types import QueryParameter\n",
        "from dune_client.client import DuneClient\n",
        "from dune_client.query import QueryBase\n",
        "import pandas as pd"
      ],
      "metadata": {
        "id": "J0-5KwyJCsrS"
      },
      "execution_count": null,
      "outputs": []
    },
    {
      "cell_type": "code",
      "source": [
        "dune_api_key = '<your_api_key_here>' # input your API key, to create one follow guide here https://docs.dune.com/api-reference/overview/authentication"
      ],
      "metadata": {
        "id": "MyESCBixC6iL"
      },
      "execution_count": null,
      "outputs": []
    },
    {
      "cell_type": "code",
      "source": [
        "dune = DuneClient(\n",
        "    api_key=dune_api_key,\n",
        "    base_url=\"https://api.dune.com\",\n",
        "    request_timeout=(300) # request will time out after 300 seconds\n",
        ")"
      ],
      "metadata": {
        "id": "KdmdFPM7C8kP"
      },
      "execution_count": null,
      "outputs": []
    },
    {
      "cell_type": "markdown",
      "source": [
        "## For EVM wallets\n",
        "\n",
        "---\n",
        "### Input our EVM wallets here 👇\n",
        "_Chains included: Ethereum, Arbitrum, Optimism, Polygon_"
      ],
      "metadata": {
        "id": "Mm-Uha4ODCIn"
      }
    },
    {
      "cell_type": "code",
      "source": [
        "evm_wallets = '<your list of EVM wallets here>'\n",
        "# Notebook ran with '0xd8da6bf26964af9d7eed9e03e53415d37aa96045, 0xd7029bdea1c17493893aafe29aad69ef892b8ff2' for vitalik.eth, dwr.eth"
      ],
      "metadata": {
        "id": "tdkfpbONC9wV"
      },
      "execution_count": null,
      "outputs": []
    },
    {
      "cell_type": "code",
      "source": [
        "query_evm = QueryBase(\n",
        "    query_id = 3564905, # https://dune.com/queries/3564905\n",
        "    params=[\n",
        "        QueryParameter.text_type(name=\"list_of_wallets\", value=evm_wallets),\n",
        "    ],\n",
        ")\n",
        "\n",
        "print(\"Results available at\", query_evm.url())\n",
        "\n",
        "query_result_evm = dune.run_query(\n",
        "    query=query_evm,\n",
        "    performance='large', # optional, default is 'medium' engine size\n",
        "    ping_frequency=30 # optional, default is 1 (so pinging server every 1 second to check status)\n",
        ")"
      ],
      "metadata": {
        "colab": {
          "base_uri": "https://localhost:8080/"
        },
        "id": "SLfpybMJDEx-",
        "outputId": "0f0041fb-0976-4b9c-f238-5d64ff4e13c1"
      },
      "execution_count": null,
      "outputs": [
        {
          "output_type": "stream",
          "name": "stdout",
          "text": [
            "Results available at https://dune.com/queries/3564905?list_of_wallets=0xd8da6bf26964af9d7eed9e03e53415d37aa96045%2C+0xd7029bdea1c17493893aafe29aad69ef892b8ff2\n"
          ]
        }
      ]
    },
    {
      "cell_type": "code",
      "source": [
        "evm_datapoint = query_result_evm.result.metadata.datapoint_count\n",
        "evm_df = pd.DataFrame(query_result_evm.result.rows)\n",
        "\n",
        "print(\"Datapoints downloaded for EVM wallets: \", evm_datapoint)"
      ],
      "metadata": {
        "colab": {
          "base_uri": "https://localhost:8080/"
        },
        "id": "px1KXGPRDF1t",
        "outputId": "54fafd8f-7c82-425f-820e-674842c10e66"
      },
      "execution_count": null,
      "outputs": [
        {
          "output_type": "stream",
          "name": "stdout",
          "text": [
            "Datapoints downloaded for EVM wallets:  450744\n"
          ]
        }
      ]
    },
    {
      "cell_type": "markdown",
      "source": [
        "## For Solana wallets\n",
        "---\n",
        "### Input our Solana wallets here 👇\n",
        "_Not including NFT transfers currently_"
      ],
      "metadata": {
        "id": "IzFZn4uADJin"
      }
    },
    {
      "cell_type": "code",
      "source": [
        "solana_wallets = '<your list of Solana wallets here>'\n",
        "# Notebook ran with '6by8iRgL41nY5fzFAmoH8dxzWFwmDmYiMbVUq6fpK69d'"
      ],
      "metadata": {
        "id": "0G2jGYH3DHt4"
      },
      "execution_count": null,
      "outputs": []
    },
    {
      "cell_type": "code",
      "source": [
        "query_solana = QueryBase(\n",
        "    query_id = 3560535, # https://dune.com/queries/3560535\n",
        "    params=[\n",
        "        QueryParameter.text_type(name=\"list_of_wallets\", value=solana_wallets),\n",
        "    ],\n",
        ")\n",
        "\n",
        "print(\"Results available at\", query_solana.url())\n",
        "\n",
        "query_result_solana = dune.run_query(\n",
        "    query=query_solana,\n",
        "    performance='large', # optional, default is 'medium' engine size\n",
        "    ping_frequency=30 # optional, default is 1 (so pinging server every 1 second to check status)\n",
        ")"
      ],
      "metadata": {
        "colab": {
          "base_uri": "https://localhost:8080/"
        },
        "id": "IxSeSVzXDNeY",
        "outputId": "1144e8c3-0eee-4142-a982-1875ed75db7f"
      },
      "execution_count": null,
      "outputs": [
        {
          "metadata": {
            "tags": null
          },
          "name": "stdout",
          "output_type": "stream",
          "text": [
            "Results available at https://dune.com/queries/3560535?list_of_wallets=6by8iRgL41nY5fzFAmoH8dxzWFwmDmYiMbVUq6fpK69d\n"
          ]
        }
      ]
    },
    {
      "cell_type": "code",
      "source": [
        "solana_datapoint = query_result_solana.result.metadata.datapoint_count\n",
        "solana_df = pd.DataFrame(query_result_solana.result.rows)\n",
        "\n",
        "print(\"Datapoints downloaded for Solana wallets: \", solana_datapoint)"
      ],
      "metadata": {
        "colab": {
          "base_uri": "https://localhost:8080/"
        },
        "id": "q_p7-k8wDOh7",
        "outputId": "eae96e72-e71d-4c5d-9413-766e77597b5e"
      },
      "execution_count": null,
      "outputs": [
        {
          "output_type": "stream",
          "name": "stdout",
          "text": [
            "Datapoints downloaded for Solana wallets:  171\n"
          ]
        }
      ]
    },
    {
      "cell_type": "markdown",
      "source": [
        "## Getting results\n",
        "---\n",
        "- Download line items for EVM wallets and Solana wallets\n",
        "- Get aggregate profit or loss for the year"
      ],
      "metadata": {
        "id": "zgT5aDrzDR6w"
      }
    },
    {
      "cell_type": "code",
      "source": [
        "# Calculate Aggregated PnL\n",
        "aggregated_pnl_evm = evm_df['pnl'].sum()  # Replace 'pnl' with the actual column name for PnL in evm_df\n",
        "aggregated_pnl_solana = solana_df['profit_usd'].sum()  # Replace 'profit_usd' with the actual column name for profit in USD in solana_df\n",
        "\n",
        "# Sum of PnLs from both DataFrames\n",
        "total_aggregated_pnl = aggregated_pnl_evm + aggregated_pnl_solana\n",
        "\n",
        "print('All wallets PnL for 2023 = ', total_aggregated_pnl)"
      ],
      "metadata": {
        "colab": {
          "base_uri": "https://localhost:8080/"
        },
        "id": "aFgj0QMyDQH2",
        "outputId": "401a2ae5-5e7b-4678-a747-fc8d97d76b71"
      },
      "execution_count": null,
      "outputs": [
        {
          "output_type": "stream",
          "name": "stdout",
          "text": [
            "All wallets PnL for 2023 =  2581130.5766407717\n"
          ]
        }
      ]
    },
    {
      "cell_type": "code",
      "source": [
        "# Export DataFrames to CSV files\n",
        "evm_df.to_csv('evm_transactions.csv', index=False)\n",
        "solana_df.to_csv('solana_transactions.csv', index=False)"
      ],
      "metadata": {
        "id": "cGOLIFrdDVjn"
      },
      "execution_count": null,
      "outputs": []
    }
  ]
}