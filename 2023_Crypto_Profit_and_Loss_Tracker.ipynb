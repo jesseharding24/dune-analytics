{
  "nbformat": 4,
  "nbformat_minor": 0,
  "metadata": {
    "colab": {
      "provenance": [],
      "include_colab_link": true
    },
    "kernelspec": {
      "name": "python3",
      "display_name": "Python 3"
    },
    "language_info": {
      "name": "python"
    }
  },
  "cells": [
    {
      "cell_type": "markdown",
      "metadata": {
        "id": "view-in-github",
        "colab_type": "text"
      },
      "source": [
        "<a href=\"https://colab.research.google.com/github/jesseharding24/dune-analytics/blob/main/2023_Crypto_Profit_and_Loss_Tracker.ipynb\" target=\"_parent\"><img src=\"https://colab.research.google.com/assets/colab-badge.svg\" alt=\"Open In Colab\"/></a>"
      ]
    },
    {
      "cell_type": "markdown",
      "source": [
        "# About\n",
        "\n",
        "- This notebook allows you to quickly grab needed info, such as cost basis and profit or loss for each transfer of crypto assets, to simplify your crypto tax filing! 🧾\n",
        "\n",
        "- All you need to do is to input in your wallet addresses as and run the notebook. 💨\n",
        "\n",
        "---\n",
        "\n",
        "## Set up\n",
        "- install Dune API SDK (run `pip install dune_client`)\n",
        "- obtain an API key (https://docs.dune.com/api-reference/overview/authentication)"
      ],
      "metadata": {
        "id": "I4jkGJyvCpjX"
      }
    },
    {
      "cell_type": "code",
      "source": [
        "!pip install dune_client"
      ],
      "metadata": {
        "colab": {
          "base_uri": "https://localhost:8080/"
        },
        "id": "NU5oqcbaCrCT",
        "outputId": "8cad3120-b7ee-40c4-ef19-27c5151f88d8"
      },
      "execution_count": null,
      "outputs": [
        {
          "output_type": "stream",
          "name": "stdout",
          "text": [
            "Collecting dune_client\n",
            "  Downloading dune_client-1.6.0-py3-none-any.whl (36 kB)\n",
            "Requirement already satisfied: aiohttp>=3.8.3 in /usr/local/lib/python3.10/dist-packages (from dune_client) (3.9.3)\n",
            "Collecting types-python-dateutil>=2.8.19 (from dune_client)\n",
            "  Downloading types_python_dateutil-2.9.0.20240316-py3-none-any.whl (9.7 kB)\n",
            "Collecting types-PyYAML>=6.0.11 (from dune_client)\n",
            "  Downloading types_PyYAML-6.0.12.20240311-py3-none-any.whl (15 kB)\n",
            "Collecting types-requests>=2.28.0 (from dune_client)\n",
            "  Downloading types_requests-2.31.0.20240311-py3-none-any.whl (14 kB)\n",
            "Collecting types-Deprecated>=1.2.9.3 (from dune_client)\n",
            "  Downloading types_Deprecated-1.2.9.20240311-py3-none-any.whl (3.5 kB)\n",
            "Requirement already satisfied: types-setuptools>=68.2.0.0 in /usr/local/lib/python3.10/dist-packages (from dune_client) (69.2.0.20240317)\n",
            "Requirement already satisfied: python-dateutil>=2.8.2 in /usr/local/lib/python3.10/dist-packages (from dune_client) (2.8.2)\n",
            "Requirement already satisfied: requests>=2.28.0 in /usr/local/lib/python3.10/dist-packages (from dune_client) (2.31.0)\n",
            "Collecting ndjson>=0.3.1 (from dune_client)\n",
            "  Downloading ndjson-0.3.1-py2.py3-none-any.whl (5.3 kB)\n",
            "Collecting Deprecated>=1.2.0 (from dune_client)\n",
            "  Downloading Deprecated-1.2.14-py2.py3-none-any.whl (9.6 kB)\n",
            "Requirement already satisfied: aiosignal>=1.1.2 in /usr/local/lib/python3.10/dist-packages (from aiohttp>=3.8.3->dune_client) (1.3.1)\n",
            "Requirement already satisfied: attrs>=17.3.0 in /usr/local/lib/python3.10/dist-packages (from aiohttp>=3.8.3->dune_client) (23.2.0)\n",
            "Requirement already satisfied: frozenlist>=1.1.1 in /usr/local/lib/python3.10/dist-packages (from aiohttp>=3.8.3->dune_client) (1.4.1)\n",
            "Requirement already satisfied: multidict<7.0,>=4.5 in /usr/local/lib/python3.10/dist-packages (from aiohttp>=3.8.3->dune_client) (6.0.5)\n",
            "Requirement already satisfied: yarl<2.0,>=1.0 in /usr/local/lib/python3.10/dist-packages (from aiohttp>=3.8.3->dune_client) (1.9.4)\n",
            "Requirement already satisfied: async-timeout<5.0,>=4.0 in /usr/local/lib/python3.10/dist-packages (from aiohttp>=3.8.3->dune_client) (4.0.3)\n",
            "Requirement already satisfied: wrapt<2,>=1.10 in /usr/local/lib/python3.10/dist-packages (from Deprecated>=1.2.0->dune_client) (1.14.1)\n",
            "Requirement already satisfied: six>=1.5 in /usr/local/lib/python3.10/dist-packages (from python-dateutil>=2.8.2->dune_client) (1.16.0)\n",
            "Requirement already satisfied: charset-normalizer<4,>=2 in /usr/local/lib/python3.10/dist-packages (from requests>=2.28.0->dune_client) (3.3.2)\n",
            "Requirement already satisfied: idna<4,>=2.5 in /usr/local/lib/python3.10/dist-packages (from requests>=2.28.0->dune_client) (3.6)\n",
            "Requirement already satisfied: urllib3<3,>=1.21.1 in /usr/local/lib/python3.10/dist-packages (from requests>=2.28.0->dune_client) (2.0.7)\n",
            "Requirement already satisfied: certifi>=2017.4.17 in /usr/local/lib/python3.10/dist-packages (from requests>=2.28.0->dune_client) (2024.2.2)\n",
            "Installing collected packages: ndjson, types-requests, types-PyYAML, types-python-dateutil, types-Deprecated, Deprecated, dune_client\n",
            "Successfully installed Deprecated-1.2.14 dune_client-1.6.0 ndjson-0.3.1 types-Deprecated-1.2.9.20240311 types-PyYAML-6.0.12.20240311 types-python-dateutil-2.9.0.20240316 types-requests-2.31.0.20240311\n"
          ]
        }
      ]
    },
    {
      "cell_type": "code",
      "source": [
        "from dune_client.types import QueryParameter\n",
        "from dune_client.client import DuneClient\n",
        "from dune_client.query import QueryBase\n",
        "import pandas as pd"
      ],
      "metadata": {
        "id": "J0-5KwyJCsrS"
      },
      "execution_count": null,
      "outputs": []
    },
    {
      "cell_type": "code",
      "source": [
        "dune_api_key = '<your_api_key_here>' # input your API key, to create one follow guide here https://docs.dune.com/api-reference/overview/authentication"
      ],
      "metadata": {
        "id": "MyESCBixC6iL"
      },
      "execution_count": null,
      "outputs": []
    },
    {
      "cell_type": "code",
      "source": [
        "dune = DuneClient(\n",
        "    api_key=dune_api_key,\n",
        "    base_url=\"https://api.dune.com\",\n",
        "    request_timeout=(300) # request will time out after 300 seconds\n",
        ")"
      ],
      "metadata": {
        "id": "KdmdFPM7C8kP"
      },
      "execution_count": null,
      "outputs": []
    },
    {
      "cell_type": "markdown",
      "source": [
        "## For EVM wallets\n",
        "\n",
        "---\n",
        "### Input our EVM wallets here 👇\n",
        "_Chains included: Ethereum, Arbitrum, Optimism, Polygon_"
      ],
      "metadata": {
        "id": "Mm-Uha4ODCIn"
      }
    },
    {
      "cell_type": "code",
      "source": [
        "evm_wallets = '<your list of EVM wallets here>'\n",
        "# Notebook ran with '0xd8da6bf26964af9d7eed9e03e53415d37aa96045, 0xd7029bdea1c17493893aafe29aad69ef892b8ff2' for vitalik.eth, dwr.eth"
      ],
      "metadata": {
        "id": "tdkfpbONC9wV"
      },
      "execution_count": null,
      "outputs": []
    },
    {
      "cell_type": "code",
      "source": [
        "query_evm = QueryBase(\n",
        "    query_id = 3564905, # https://dune.com/queries/3564905\n",
        "    params=[\n",
        "        QueryParameter.text_type(name=\"list_of_wallets\", value=evm_wallets),\n",
        "    ],\n",
        ")\n",
        "\n",
        "print(\"Results available at\", query_evm.url())\n",
        "\n",
        "query_result_evm = dune.run_query(\n",
        "    query=query_evm,\n",
        "    performance='large', # optional, default is 'medium' engine size\n",
        "    ping_frequency=30 # optional, default is 1 (so pinging server every 1 second to check status)\n",
        ")"
      ],
      "metadata": {
        "colab": {
          "base_uri": "https://localhost:8080/"
        },
        "id": "SLfpybMJDEx-",
        "outputId": "0f0041fb-0976-4b9c-f238-5d64ff4e13c1"
      },
      "execution_count": null,
      "outputs": [
        {
          "output_type": "stream",
          "name": "stdout",
          "text": [
            "Results available at https://dune.com/queries/3564905?list_of_wallets=0xd8da6bf26964af9d7eed9e03e53415d37aa96045%2C+0xd7029bdea1c17493893aafe29aad69ef892b8ff2\n"
          ]
        }
      ]
    },
    {
      "cell_type": "code",
      "source": [
        "evm_datapoint = query_result_evm.result.metadata.datapoint_count\n",
        "evm_df = pd.DataFrame(query_result_evm.result.rows)\n",
        "\n",
        "print(\"Datapoints downloaded for EVM wallets: \", evm_datapoint)"
      ],
      "metadata": {
        "colab": {
          "base_uri": "https://localhost:8080/"
        },
        "id": "px1KXGPRDF1t",
        "outputId": "54fafd8f-7c82-425f-820e-674842c10e66"
      },
      "execution_count": null,
      "outputs": [
        {
          "output_type": "stream",
          "name": "stdout",
          "text": [
            "Datapoints downloaded for EVM wallets:  450744\n"
          ]
        }
      ]
    },
    {
      "cell_type": "markdown",
      "source": [
        "## For Solana wallets\n",
        "---\n",
        "### Input our Solana wallets here 👇\n",
        "_Not including NFT transfers currently_"
      ],
      "metadata": {
        "id": "IzFZn4uADJin"
      }
    },
    {
      "cell_type": "code",
      "source": [
        "solana_wallets = '<your list of Solana wallets here>'\n",
        "# Notebook ran with '6by8iRgL41nY5fzFAmoH8dxzWFwmDmYiMbVUq6fpK69d'"
      ],
      "metadata": {
        "id": "0G2jGYH3DHt4"
      },
      "execution_count": null,
      "outputs": []
    },
    {
      "cell_type": "code",
      "source": [
        "query_solana = QueryBase(\n",
        "    query_id = 3560535, # https://dune.com/queries/3560535\n",
        "    params=[\n",
        "        QueryParameter.text_type(name=\"list_of_wallets\", value=solana_wallets),\n",
        "    ],\n",
        ")\n",
        "\n",
        "print(\"Results available at\", query_solana.url())\n",
        "\n",
        "query_result_solana = dune.run_query(\n",
        "    query=query_solana,\n",
        "    performance='large', # optional, default is 'medium' engine size\n",
        "    ping_frequency=30 # optional, default is 1 (so pinging server every 1 second to check status)\n",
        ")"
      ],
      "metadata": {
        "colab": {
          "base_uri": "https://localhost:8080/"
        },
        "id": "IxSeSVzXDNeY",
        "outputId": "1144e8c3-0eee-4142-a982-1875ed75db7f"
      },
      "execution_count": null,
      "outputs": [
        {
          "metadata": {
            "tags": null
          },
          "name": "stdout",
          "output_type": "stream",
          "text": [
            "Results available at https://dune.com/queries/3560535?list_of_wallets=6by8iRgL41nY5fzFAmoH8dxzWFwmDmYiMbVUq6fpK69d\n"
          ]
        }
      ]
    },
    {
      "cell_type": "code",
      "source": [
        "solana_datapoint = query_result_solana.result.metadata.datapoint_count\n",
        "solana_df = pd.DataFrame(query_result_solana.result.rows)\n",
        "\n",
        "print(\"Datapoints downloaded for Solana wallets: \", solana_datapoint)"
      ],
      "metadata": {
        "colab": {
          "base_uri": "https://localhost:8080/"
        },
        "id": "q_p7-k8wDOh7",
        "outputId": "eae96e72-e71d-4c5d-9413-766e77597b5e"
      },
      "execution_count": null,
      "outputs": [
        {
          "output_type": "stream",
          "name": "stdout",
          "text": [
            "Datapoints downloaded for Solana wallets:  171\n"
          ]
        }
      ]
    },
    {
      "cell_type": "markdown",
      "source": [
        "## Getting results\n",
        "---\n",
        "- Download line items for EVM wallets and Solana wallets\n",
        "- Get aggregate profit or loss for the year"
      ],
      "metadata": {
        "id": "zgT5aDrzDR6w"
      }
    },
    {
      "cell_type": "code",
      "source": [
        "# Calculate Aggregated PnL\n",
        "aggregated_pnl_evm = evm_df['pnl'].sum()  # Replace 'pnl' with the actual column name for PnL in evm_df\n",
        "aggregated_pnl_solana = solana_df['profit_usd'].sum()  # Replace 'profit_usd' with the actual column name for profit in USD in solana_df\n",
        "\n",
        "# Sum of PnLs from both DataFrames\n",
        "total_aggregated_pnl = aggregated_pnl_evm + aggregated_pnl_solana\n",
        "\n",
        "print('All wallets PnL for 2023 = ', total_aggregated_pnl)"
      ],
      "metadata": {
        "colab": {
          "base_uri": "https://localhost:8080/"
        },
        "id": "aFgj0QMyDQH2",
        "outputId": "401a2ae5-5e7b-4678-a747-fc8d97d76b71"
      },
      "execution_count": null,
      "outputs": [
        {
          "output_type": "stream",
          "name": "stdout",
          "text": [
            "All wallets PnL for 2023 =  2581130.5766407717\n"
          ]
        }
      ]
    },
    {
      "cell_type": "code",
      "source": [
        "# Export DataFrames to CSV files\n",
        "evm_df.to_csv('evm_transactions.csv', index=False)\n",
        "solana_df.to_csv('solana_transactions.csv', index=False)"
      ],
      "metadata": {
        "id": "cGOLIFrdDVjn"
      },
      "execution_count": null,
      "outputs": []
    }
  ]
}